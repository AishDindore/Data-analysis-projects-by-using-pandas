{
 "cells": [
  {
   "cell_type": "markdown",
   "id": "d4b2e95d",
   "metadata": {},
   "source": [
    "Sales data analysis project1\n",
    "\n",
    "Example:1\n",
    "Skills: GroupBy, time-series, filtering\n",
    "What to analyze:\n",
    "\n",
    "Monthly/quarterly sales\n",
    "\n",
    "Best-selling products\n",
    "\n",
    "Sales trends by region or product category\n",
    "\n"
   ]
  },
  {
   "cell_type": "code",
   "execution_count": 1,
   "id": "456ba653",
   "metadata": {},
   "outputs": [],
   "source": [
    "import pandas as pd\n",
    "import numpy as np"
   ]
  },
  {
   "cell_type": "code",
   "execution_count": 2,
   "id": "c2ed871b",
   "metadata": {},
   "outputs": [
    {
     "data": {
      "text/html": [
       "<div>\n",
       "<style scoped>\n",
       "    .dataframe tbody tr th:only-of-type {\n",
       "        vertical-align: middle;\n",
       "    }\n",
       "\n",
       "    .dataframe tbody tr th {\n",
       "        vertical-align: top;\n",
       "    }\n",
       "\n",
       "    .dataframe thead th {\n",
       "        text-align: right;\n",
       "    }\n",
       "</style>\n",
       "<table border=\"1\" class=\"dataframe\">\n",
       "  <thead>\n",
       "    <tr style=\"text-align: right;\">\n",
       "      <th></th>\n",
       "      <th>OrderID</th>\n",
       "      <th>Date</th>\n",
       "      <th>Region</th>\n",
       "      <th>Product</th>\n",
       "      <th>Quantity</th>\n",
       "      <th>UnitPrice</th>\n",
       "    </tr>\n",
       "  </thead>\n",
       "  <tbody>\n",
       "    <tr>\n",
       "      <th>0</th>\n",
       "      <td>101</td>\n",
       "      <td>2024-01-01</td>\n",
       "      <td>East</td>\n",
       "      <td>A</td>\n",
       "      <td>10</td>\n",
       "      <td>20</td>\n",
       "    </tr>\n",
       "    <tr>\n",
       "      <th>1</th>\n",
       "      <td>102</td>\n",
       "      <td>2024-01-02</td>\n",
       "      <td>West</td>\n",
       "      <td>B</td>\n",
       "      <td>5</td>\n",
       "      <td>30</td>\n",
       "    </tr>\n",
       "    <tr>\n",
       "      <th>2</th>\n",
       "      <td>103</td>\n",
       "      <td>2024-01-02</td>\n",
       "      <td>East</td>\n",
       "      <td>A</td>\n",
       "      <td>8</td>\n",
       "      <td>20</td>\n",
       "    </tr>\n",
       "    <tr>\n",
       "      <th>3</th>\n",
       "      <td>104</td>\n",
       "      <td>2024-01-03</td>\n",
       "      <td>South</td>\n",
       "      <td>C</td>\n",
       "      <td>12</td>\n",
       "      <td>25</td>\n",
       "    </tr>\n",
       "    <tr>\n",
       "      <th>4</th>\n",
       "      <td>105</td>\n",
       "      <td>2024-01-03</td>\n",
       "      <td>East</td>\n",
       "      <td>B</td>\n",
       "      <td>7</td>\n",
       "      <td>30</td>\n",
       "    </tr>\n",
       "  </tbody>\n",
       "</table>\n",
       "</div>"
      ],
      "text/plain": [
       "   OrderID        Date Region Product  Quantity  UnitPrice\n",
       "0      101  2024-01-01   East       A        10         20\n",
       "1      102  2024-01-02   West       B         5         30\n",
       "2      103  2024-01-02   East       A         8         20\n",
       "3      104  2024-01-03  South       C        12         25\n",
       "4      105  2024-01-03   East       B         7         30"
      ]
     },
     "execution_count": 2,
     "metadata": {},
     "output_type": "execute_result"
    }
   ],
   "source": [
    "sales=pd.read_excel(r\"C:\\Users\\Admin\\Desktop\\python\\Minskole class of data analytics\\pandas\\practise datasets\\project1 sales data analysis.xlsx\")\n",
    "sales"
   ]
  },
  {
   "cell_type": "code",
   "execution_count": 4,
   "id": "8bd4413c",
   "metadata": {},
   "outputs": [
    {
     "data": {
      "text/plain": [
       "Product\n",
       "A    2\n",
       "B    2\n",
       "C    1\n",
       "Name: Quantity, dtype: int64"
      ]
     },
     "execution_count": 4,
     "metadata": {},
     "output_type": "execute_result"
    }
   ],
   "source": [
    "sales.groupby(\"Product\")[\"Quantity\"].count()"
   ]
  },
  {
   "cell_type": "markdown",
   "id": "4e9034dc",
   "metadata": {},
   "source": [
    "calculate total sales for each product"
   ]
  },
  {
   "cell_type": "code",
   "execution_count": 5,
   "id": "5881ab0f",
   "metadata": {},
   "outputs": [
    {
     "data": {
      "text/plain": [
       "Product\n",
       "A    40\n",
       "B    60\n",
       "C    25\n",
       "Name: UnitPrice, dtype: int64"
      ]
     },
     "execution_count": 5,
     "metadata": {},
     "output_type": "execute_result"
    }
   ],
   "source": [
    "sales.groupby(\"Product\")[\"UnitPrice\"].sum()"
   ]
  },
  {
   "cell_type": "code",
   "execution_count": 6,
   "id": "88584566",
   "metadata": {},
   "outputs": [
    {
     "data": {
      "text/plain": [
       "Date\n",
       "2024-01-01    1\n",
       "2024-01-02    2\n",
       "2024-01-03    2\n",
       "Name: UnitPrice, dtype: int64"
      ]
     },
     "execution_count": 6,
     "metadata": {},
     "output_type": "execute_result"
    }
   ],
   "source": [
    "sales.groupby(\"Date\")[\"UnitPrice\"].count()"
   ]
  },
  {
   "cell_type": "markdown",
   "id": "99ba4ebe",
   "metadata": {},
   "source": [
    "Total sale done"
   ]
  },
  {
   "cell_type": "code",
   "execution_count": 7,
   "id": "c0d3d5b6",
   "metadata": {},
   "outputs": [],
   "source": [
    "sales['TotalSales'] = sales['Quantity'] * sales['UnitPrice']"
   ]
  },
  {
   "cell_type": "code",
   "execution_count": 8,
   "id": "b04c7844",
   "metadata": {},
   "outputs": [
    {
     "data": {
      "text/html": [
       "<div>\n",
       "<style scoped>\n",
       "    .dataframe tbody tr th:only-of-type {\n",
       "        vertical-align: middle;\n",
       "    }\n",
       "\n",
       "    .dataframe tbody tr th {\n",
       "        vertical-align: top;\n",
       "    }\n",
       "\n",
       "    .dataframe thead th {\n",
       "        text-align: right;\n",
       "    }\n",
       "</style>\n",
       "<table border=\"1\" class=\"dataframe\">\n",
       "  <thead>\n",
       "    <tr style=\"text-align: right;\">\n",
       "      <th></th>\n",
       "      <th>OrderID</th>\n",
       "      <th>Date</th>\n",
       "      <th>Region</th>\n",
       "      <th>Product</th>\n",
       "      <th>Quantity</th>\n",
       "      <th>UnitPrice</th>\n",
       "      <th>TotalSales</th>\n",
       "    </tr>\n",
       "  </thead>\n",
       "  <tbody>\n",
       "    <tr>\n",
       "      <th>0</th>\n",
       "      <td>101</td>\n",
       "      <td>2024-01-01</td>\n",
       "      <td>East</td>\n",
       "      <td>A</td>\n",
       "      <td>10</td>\n",
       "      <td>20</td>\n",
       "      <td>200</td>\n",
       "    </tr>\n",
       "    <tr>\n",
       "      <th>1</th>\n",
       "      <td>102</td>\n",
       "      <td>2024-01-02</td>\n",
       "      <td>West</td>\n",
       "      <td>B</td>\n",
       "      <td>5</td>\n",
       "      <td>30</td>\n",
       "      <td>150</td>\n",
       "    </tr>\n",
       "    <tr>\n",
       "      <th>2</th>\n",
       "      <td>103</td>\n",
       "      <td>2024-01-02</td>\n",
       "      <td>East</td>\n",
       "      <td>A</td>\n",
       "      <td>8</td>\n",
       "      <td>20</td>\n",
       "      <td>160</td>\n",
       "    </tr>\n",
       "    <tr>\n",
       "      <th>3</th>\n",
       "      <td>104</td>\n",
       "      <td>2024-01-03</td>\n",
       "      <td>South</td>\n",
       "      <td>C</td>\n",
       "      <td>12</td>\n",
       "      <td>25</td>\n",
       "      <td>300</td>\n",
       "    </tr>\n",
       "    <tr>\n",
       "      <th>4</th>\n",
       "      <td>105</td>\n",
       "      <td>2024-01-03</td>\n",
       "      <td>East</td>\n",
       "      <td>B</td>\n",
       "      <td>7</td>\n",
       "      <td>30</td>\n",
       "      <td>210</td>\n",
       "    </tr>\n",
       "  </tbody>\n",
       "</table>\n",
       "</div>"
      ],
      "text/plain": [
       "   OrderID        Date Region Product  Quantity  UnitPrice  TotalSales\n",
       "0      101  2024-01-01   East       A        10         20         200\n",
       "1      102  2024-01-02   West       B         5         30         150\n",
       "2      103  2024-01-02   East       A         8         20         160\n",
       "3      104  2024-01-03  South       C        12         25         300\n",
       "4      105  2024-01-03   East       B         7         30         210"
      ]
     },
     "execution_count": 8,
     "metadata": {},
     "output_type": "execute_result"
    }
   ],
   "source": [
    "sales"
   ]
  },
  {
   "cell_type": "markdown",
   "id": "c1f95289",
   "metadata": {},
   "source": [
    "Total sales by region"
   ]
  },
  {
   "cell_type": "code",
   "execution_count": 9,
   "id": "7792fe01",
   "metadata": {},
   "outputs": [
    {
     "name": "stdout",
     "output_type": "stream",
     "text": [
      "  Region  TotalSales\n",
      "0   East         570\n",
      "1  South         300\n",
      "2   West         150\n"
     ]
    }
   ],
   "source": [
    "region_sales = sales.groupby('Region')['TotalSales'].sum().reset_index()\n",
    "print(region_sales)"
   ]
  },
  {
   "cell_type": "markdown",
   "id": "9795668d",
   "metadata": {},
   "source": [
    " Project 2: HR Employee Data Analysis\n",
    "\n",
    " Skills: Data filtering, statistical summaries\n",
    "What to analyze:\n",
    "\n",
    "Attrition rate by department, age, experience\n",
    "\n",
    "Average salary by job role\n",
    "\n",
    "Employee tenure trends"
   ]
  },
  {
   "cell_type": "code",
   "execution_count": 12,
   "id": "dd581bee",
   "metadata": {},
   "outputs": [
    {
     "data": {
      "text/html": [
       "<div>\n",
       "<style scoped>\n",
       "    .dataframe tbody tr th:only-of-type {\n",
       "        vertical-align: middle;\n",
       "    }\n",
       "\n",
       "    .dataframe tbody tr th {\n",
       "        vertical-align: top;\n",
       "    }\n",
       "\n",
       "    .dataframe thead th {\n",
       "        text-align: right;\n",
       "    }\n",
       "</style>\n",
       "<table border=\"1\" class=\"dataframe\">\n",
       "  <thead>\n",
       "    <tr style=\"text-align: right;\">\n",
       "      <th></th>\n",
       "      <th>EmployeeID</th>\n",
       "      <th>Name</th>\n",
       "      <th>Department</th>\n",
       "      <th>Salary</th>\n",
       "      <th>Attrition</th>\n",
       "    </tr>\n",
       "  </thead>\n",
       "  <tbody>\n",
       "    <tr>\n",
       "      <th>0</th>\n",
       "      <td>1</td>\n",
       "      <td>Alice</td>\n",
       "      <td>HR</td>\n",
       "      <td>50000</td>\n",
       "      <td>No</td>\n",
       "    </tr>\n",
       "    <tr>\n",
       "      <th>1</th>\n",
       "      <td>2</td>\n",
       "      <td>Bob</td>\n",
       "      <td>Finance</td>\n",
       "      <td>60000</td>\n",
       "      <td>Yes</td>\n",
       "    </tr>\n",
       "    <tr>\n",
       "      <th>2</th>\n",
       "      <td>3</td>\n",
       "      <td>Charlie</td>\n",
       "      <td>IT</td>\n",
       "      <td>55000</td>\n",
       "      <td>No</td>\n",
       "    </tr>\n",
       "    <tr>\n",
       "      <th>3</th>\n",
       "      <td>4</td>\n",
       "      <td>David</td>\n",
       "      <td>IT</td>\n",
       "      <td>58000</td>\n",
       "      <td>Yes</td>\n",
       "    </tr>\n",
       "    <tr>\n",
       "      <th>4</th>\n",
       "      <td>5</td>\n",
       "      <td>Eva</td>\n",
       "      <td>HR</td>\n",
       "      <td>52000</td>\n",
       "      <td>No</td>\n",
       "    </tr>\n",
       "  </tbody>\n",
       "</table>\n",
       "</div>"
      ],
      "text/plain": [
       "   EmployeeID     Name Department  Salary Attrition\n",
       "0           1    Alice         HR   50000        No\n",
       "1           2      Bob    Finance   60000       Yes\n",
       "2           3  Charlie         IT   55000        No\n",
       "3           4    David         IT   58000       Yes\n",
       "4           5      Eva         HR   52000        No"
      ]
     },
     "execution_count": 12,
     "metadata": {},
     "output_type": "execute_result"
    }
   ],
   "source": [
    "hr_result=pd.read_excel(r\"C:\\Users\\Admin\\Desktop\\python\\Minskole class of data analytics\\pandas\\practise datasets\\project1 sales data analysis.xlsx\",sheet_name=\"HRData\")\n",
    "hr_result"
   ]
  },
  {
   "cell_type": "markdown",
   "id": "4891bec4",
   "metadata": {},
   "source": [
    " Step 2: Count of Employees per Department"
   ]
  },
  {
   "cell_type": "code",
   "execution_count": 14,
   "id": "131bd3a3",
   "metadata": {},
   "outputs": [
    {
     "data": {
      "text/html": [
       "<div>\n",
       "<style scoped>\n",
       "    .dataframe tbody tr th:only-of-type {\n",
       "        vertical-align: middle;\n",
       "    }\n",
       "\n",
       "    .dataframe tbody tr th {\n",
       "        vertical-align: top;\n",
       "    }\n",
       "\n",
       "    .dataframe thead th {\n",
       "        text-align: right;\n",
       "    }\n",
       "</style>\n",
       "<table border=\"1\" class=\"dataframe\">\n",
       "  <thead>\n",
       "    <tr style=\"text-align: right;\">\n",
       "      <th></th>\n",
       "      <th>Department</th>\n",
       "      <th>count</th>\n",
       "    </tr>\n",
       "  </thead>\n",
       "  <tbody>\n",
       "    <tr>\n",
       "      <th>0</th>\n",
       "      <td>HR</td>\n",
       "      <td>2</td>\n",
       "    </tr>\n",
       "    <tr>\n",
       "      <th>1</th>\n",
       "      <td>IT</td>\n",
       "      <td>2</td>\n",
       "    </tr>\n",
       "    <tr>\n",
       "      <th>2</th>\n",
       "      <td>Finance</td>\n",
       "      <td>1</td>\n",
       "    </tr>\n",
       "  </tbody>\n",
       "</table>\n",
       "</div>"
      ],
      "text/plain": [
       "  Department  count\n",
       "0         HR      2\n",
       "1         IT      2\n",
       "2    Finance      1"
      ]
     },
     "execution_count": 14,
     "metadata": {},
     "output_type": "execute_result"
    }
   ],
   "source": [
    "hr_result[\"Department\"].value_counts().reset_index()"
   ]
  },
  {
   "cell_type": "markdown",
   "id": "cf2b5622",
   "metadata": {},
   "source": [
    "Average Salary by Department"
   ]
  },
  {
   "cell_type": "code",
   "execution_count": 15,
   "id": "d52bb532",
   "metadata": {},
   "outputs": [
    {
     "data": {
      "text/html": [
       "<div>\n",
       "<style scoped>\n",
       "    .dataframe tbody tr th:only-of-type {\n",
       "        vertical-align: middle;\n",
       "    }\n",
       "\n",
       "    .dataframe tbody tr th {\n",
       "        vertical-align: top;\n",
       "    }\n",
       "\n",
       "    .dataframe thead th {\n",
       "        text-align: right;\n",
       "    }\n",
       "</style>\n",
       "<table border=\"1\" class=\"dataframe\">\n",
       "  <thead>\n",
       "    <tr style=\"text-align: right;\">\n",
       "      <th></th>\n",
       "      <th>Department</th>\n",
       "      <th>Salary</th>\n",
       "    </tr>\n",
       "  </thead>\n",
       "  <tbody>\n",
       "    <tr>\n",
       "      <th>0</th>\n",
       "      <td>Finance</td>\n",
       "      <td>60000.0</td>\n",
       "    </tr>\n",
       "    <tr>\n",
       "      <th>1</th>\n",
       "      <td>HR</td>\n",
       "      <td>51000.0</td>\n",
       "    </tr>\n",
       "    <tr>\n",
       "      <th>2</th>\n",
       "      <td>IT</td>\n",
       "      <td>56500.0</td>\n",
       "    </tr>\n",
       "  </tbody>\n",
       "</table>\n",
       "</div>"
      ],
      "text/plain": [
       "  Department   Salary\n",
       "0    Finance  60000.0\n",
       "1         HR  51000.0\n",
       "2         IT  56500.0"
      ]
     },
     "execution_count": 15,
     "metadata": {},
     "output_type": "execute_result"
    }
   ],
   "source": [
    "avg_salary=hr_result.groupby(\"Department\")[\"Salary\"].mean().reset_index()\n",
    "avg_salary"
   ]
  },
  {
   "cell_type": "markdown",
   "id": "d31741eb",
   "metadata": {},
   "source": [
    "🔹 Step 4: Attrition Count"
   ]
  },
  {
   "cell_type": "code",
   "execution_count": 16,
   "id": "90d95250",
   "metadata": {},
   "outputs": [
    {
     "data": {
      "text/html": [
       "<div>\n",
       "<style scoped>\n",
       "    .dataframe tbody tr th:only-of-type {\n",
       "        vertical-align: middle;\n",
       "    }\n",
       "\n",
       "    .dataframe tbody tr th {\n",
       "        vertical-align: top;\n",
       "    }\n",
       "\n",
       "    .dataframe thead th {\n",
       "        text-align: right;\n",
       "    }\n",
       "</style>\n",
       "<table border=\"1\" class=\"dataframe\">\n",
       "  <thead>\n",
       "    <tr style=\"text-align: right;\">\n",
       "      <th></th>\n",
       "      <th>Attrition</th>\n",
       "      <th>count</th>\n",
       "    </tr>\n",
       "  </thead>\n",
       "  <tbody>\n",
       "    <tr>\n",
       "      <th>0</th>\n",
       "      <td>No</td>\n",
       "      <td>3</td>\n",
       "    </tr>\n",
       "    <tr>\n",
       "      <th>1</th>\n",
       "      <td>Yes</td>\n",
       "      <td>2</td>\n",
       "    </tr>\n",
       "  </tbody>\n",
       "</table>\n",
       "</div>"
      ],
      "text/plain": [
       "  Attrition  count\n",
       "0        No      3\n",
       "1       Yes      2"
      ]
     },
     "execution_count": 16,
     "metadata": {},
     "output_type": "execute_result"
    }
   ],
   "source": [
    "attri_count=hr_result[\"Attrition\"].value_counts().reset_index()\n",
    "attri_count"
   ]
  },
  {
   "cell_type": "markdown",
   "id": "29121b75",
   "metadata": {},
   "source": [
    "Project 3: Student Performance Analysis\n",
    "\n",
    "Skills: Grouping, conditional filtering\n",
    "What to analyze:\n",
    "\n",
    "Average scores by subject and class\n",
    "\n",
    "Top students in each subject\n",
    "\n",
    "Failing vs. passing rate"
   ]
  },
  {
   "cell_type": "code",
   "execution_count": 17,
   "id": "86b84a9f",
   "metadata": {},
   "outputs": [
    {
     "data": {
      "text/html": [
       "<div>\n",
       "<style scoped>\n",
       "    .dataframe tbody tr th:only-of-type {\n",
       "        vertical-align: middle;\n",
       "    }\n",
       "\n",
       "    .dataframe tbody tr th {\n",
       "        vertical-align: top;\n",
       "    }\n",
       "\n",
       "    .dataframe thead th {\n",
       "        text-align: right;\n",
       "    }\n",
       "</style>\n",
       "<table border=\"1\" class=\"dataframe\">\n",
       "  <thead>\n",
       "    <tr style=\"text-align: right;\">\n",
       "      <th></th>\n",
       "      <th>StudentID</th>\n",
       "      <th>Name</th>\n",
       "      <th>Math</th>\n",
       "      <th>Science</th>\n",
       "      <th>English</th>\n",
       "      <th>Class</th>\n",
       "    </tr>\n",
       "  </thead>\n",
       "  <tbody>\n",
       "    <tr>\n",
       "      <th>0</th>\n",
       "      <td>101</td>\n",
       "      <td>John</td>\n",
       "      <td>85</td>\n",
       "      <td>92</td>\n",
       "      <td>78</td>\n",
       "      <td>10A</td>\n",
       "    </tr>\n",
       "    <tr>\n",
       "      <th>1</th>\n",
       "      <td>102</td>\n",
       "      <td>Sara</td>\n",
       "      <td>78</td>\n",
       "      <td>81</td>\n",
       "      <td>74</td>\n",
       "      <td>10B</td>\n",
       "    </tr>\n",
       "    <tr>\n",
       "      <th>2</th>\n",
       "      <td>103</td>\n",
       "      <td>Mike</td>\n",
       "      <td>90</td>\n",
       "      <td>87</td>\n",
       "      <td>82</td>\n",
       "      <td>10A</td>\n",
       "    </tr>\n",
       "    <tr>\n",
       "      <th>3</th>\n",
       "      <td>104</td>\n",
       "      <td>Nina</td>\n",
       "      <td>88</td>\n",
       "      <td>85</td>\n",
       "      <td>80</td>\n",
       "      <td>10B</td>\n",
       "    </tr>\n",
       "    <tr>\n",
       "      <th>4</th>\n",
       "      <td>105</td>\n",
       "      <td>Liam</td>\n",
       "      <td>76</td>\n",
       "      <td>79</td>\n",
       "      <td>75</td>\n",
       "      <td>10A</td>\n",
       "    </tr>\n",
       "  </tbody>\n",
       "</table>\n",
       "</div>"
      ],
      "text/plain": [
       "   StudentID  Name  Math  Science  English Class\n",
       "0        101  John    85       92       78   10A\n",
       "1        102  Sara    78       81       74   10B\n",
       "2        103  Mike    90       87       82   10A\n",
       "3        104  Nina    88       85       80   10B\n",
       "4        105  Liam    76       79       75   10A"
      ]
     },
     "execution_count": 17,
     "metadata": {},
     "output_type": "execute_result"
    }
   ],
   "source": [
    "stud_performance=pd.read_excel(r\"C:\\Users\\Admin\\Desktop\\python\\Minskole class of data analytics\\pandas\\practise datasets\\project1 sales data analysis.xlsx\",sheet_name=\"StudentData\")\n",
    "stud_performance"
   ]
  },
  {
   "cell_type": "markdown",
   "id": "f6db0c41",
   "metadata": {},
   "source": []
  },
  {
   "cell_type": "markdown",
   "id": "609c0b46",
   "metadata": {},
   "source": [
    "🔹 Step 2: Average Score of Each Student"
   ]
  },
  {
   "cell_type": "code",
   "execution_count": 26,
   "id": "785276bf",
   "metadata": {},
   "outputs": [
    {
     "name": "stdout",
     "output_type": "stream",
     "text": [
      "   Name        avg\n",
      "0  John  85.000000\n",
      "1  Sara  77.666667\n",
      "2  Mike  86.333333\n",
      "3  Nina  84.333333\n",
      "4  Liam  76.666667\n"
     ]
    }
   ],
   "source": [
    "stud_performance[\"avg\"]=stud_performance[[\"Math\",\"Science\",\"English\"]].mean(axis=1)\n",
    "print(stud_performance[[\"Name\",\"avg\"]])\n"
   ]
  },
  {
   "cell_type": "code",
   "execution_count": null,
   "id": "44401a90",
   "metadata": {},
   "outputs": [
    {
     "data": {
      "text/html": [
       "<div>\n",
       "<style scoped>\n",
       "    .dataframe tbody tr th:only-of-type {\n",
       "        vertical-align: middle;\n",
       "    }\n",
       "\n",
       "    .dataframe tbody tr th {\n",
       "        vertical-align: top;\n",
       "    }\n",
       "\n",
       "    .dataframe thead th {\n",
       "        text-align: right;\n",
       "    }\n",
       "</style>\n",
       "<table border=\"1\" class=\"dataframe\">\n",
       "  <thead>\n",
       "    <tr style=\"text-align: right;\">\n",
       "      <th></th>\n",
       "      <th>Name</th>\n",
       "      <th>Math</th>\n",
       "    </tr>\n",
       "  </thead>\n",
       "  <tbody>\n",
       "    <tr>\n",
       "      <th>0</th>\n",
       "      <td>John</td>\n",
       "      <td>85</td>\n",
       "    </tr>\n",
       "    <tr>\n",
       "      <th>1</th>\n",
       "      <td>Liam</td>\n",
       "      <td>76</td>\n",
       "    </tr>\n",
       "    <tr>\n",
       "      <th>2</th>\n",
       "      <td>Mike</td>\n",
       "      <td>90</td>\n",
       "    </tr>\n",
       "    <tr>\n",
       "      <th>3</th>\n",
       "      <td>Nina</td>\n",
       "      <td>88</td>\n",
       "    </tr>\n",
       "    <tr>\n",
       "      <th>4</th>\n",
       "      <td>Sara</td>\n",
       "      <td>78</td>\n",
       "    </tr>\n",
       "  </tbody>\n",
       "</table>\n",
       "</div>"
      ],
      "text/plain": [
       "   Name  Math\n",
       "0  John    85\n",
       "1  Liam    76\n",
       "2  Mike    90\n",
       "3  Nina    88\n",
       "4  Sara    78"
      ]
     },
     "execution_count": 19,
     "metadata": {},
     "output_type": "execute_result"
    }
   ],
   "source": [
    "stud_performance.groupby(\"Name\")[\"Math\"].max().reset_index()\n"
   ]
  },
  {
   "cell_type": "markdown",
   "id": "cb573e9e",
   "metadata": {},
   "source": [
    "🔹 Step 3: Class-wise Average for Each Subject"
   ]
  },
  {
   "cell_type": "code",
   "execution_count": 29,
   "id": "32cc6f50",
   "metadata": {},
   "outputs": [
    {
     "data": {
      "text/html": [
       "<div>\n",
       "<style scoped>\n",
       "    .dataframe tbody tr th:only-of-type {\n",
       "        vertical-align: middle;\n",
       "    }\n",
       "\n",
       "    .dataframe tbody tr th {\n",
       "        vertical-align: top;\n",
       "    }\n",
       "\n",
       "    .dataframe thead th {\n",
       "        text-align: right;\n",
       "    }\n",
       "</style>\n",
       "<table border=\"1\" class=\"dataframe\">\n",
       "  <thead>\n",
       "    <tr style=\"text-align: right;\">\n",
       "      <th></th>\n",
       "      <th>Class</th>\n",
       "      <th>Math</th>\n",
       "      <th>Science</th>\n",
       "      <th>English</th>\n",
       "    </tr>\n",
       "  </thead>\n",
       "  <tbody>\n",
       "    <tr>\n",
       "      <th>0</th>\n",
       "      <td>10A</td>\n",
       "      <td>83.666667</td>\n",
       "      <td>86.0</td>\n",
       "      <td>78.333333</td>\n",
       "    </tr>\n",
       "    <tr>\n",
       "      <th>1</th>\n",
       "      <td>10B</td>\n",
       "      <td>83.000000</td>\n",
       "      <td>83.0</td>\n",
       "      <td>77.000000</td>\n",
       "    </tr>\n",
       "  </tbody>\n",
       "</table>\n",
       "</div>"
      ],
      "text/plain": [
       "  Class       Math  Science    English\n",
       "0   10A  83.666667     86.0  78.333333\n",
       "1   10B  83.000000     83.0  77.000000"
      ]
     },
     "execution_count": 29,
     "metadata": {},
     "output_type": "execute_result"
    }
   ],
   "source": [
    "class_avg=stud_performance.groupby(\"Class\")[[\"Math\",\"Science\",\"English\"]].mean().reset_index()\n",
    "class_avg"
   ]
  },
  {
   "cell_type": "markdown",
   "id": "895eb0c1",
   "metadata": {},
   "source": [
    " Top Student Based on Average Score"
   ]
  },
  {
   "cell_type": "code",
   "execution_count": 31,
   "id": "cf66e094",
   "metadata": {},
   "outputs": [
    {
     "name": "stdout",
     "output_type": "stream",
     "text": [
      "Name         Mike\n",
      "avg     86.333333\n",
      "Name: 2, dtype: object\n"
     ]
    }
   ],
   "source": [
    "top_student=stud_performance.loc[stud_performance['avg'].idxmax()]\n",
    "print(top_student[['Name', 'avg']])"
   ]
  },
  {
   "cell_type": "markdown",
   "id": "102497c3",
   "metadata": {},
   "source": [
    "project3: IT Support Ticket Analysis\n",
    "Skills: GroupBy, text preprocessing (basic)\n",
    "What to analyze:\n",
    "\n",
    "Tickets per category or department\n",
    "\n",
    "Avg. resolution time\n",
    "\n",
    "Trends in open vs. closed tickets"
   ]
  },
  {
   "cell_type": "code",
   "execution_count": 32,
   "id": "fc109fff",
   "metadata": {},
   "outputs": [
    {
     "data": {
      "text/html": [
       "<div>\n",
       "<style scoped>\n",
       "    .dataframe tbody tr th:only-of-type {\n",
       "        vertical-align: middle;\n",
       "    }\n",
       "\n",
       "    .dataframe tbody tr th {\n",
       "        vertical-align: top;\n",
       "    }\n",
       "\n",
       "    .dataframe thead th {\n",
       "        text-align: right;\n",
       "    }\n",
       "</style>\n",
       "<table border=\"1\" class=\"dataframe\">\n",
       "  <thead>\n",
       "    <tr style=\"text-align: right;\">\n",
       "      <th></th>\n",
       "      <th>TicketID</th>\n",
       "      <th>Department</th>\n",
       "      <th>Category</th>\n",
       "      <th>Status</th>\n",
       "      <th>Priority</th>\n",
       "      <th>CreatedDate</th>\n",
       "      <th>ResolvedDate</th>\n",
       "    </tr>\n",
       "  </thead>\n",
       "  <tbody>\n",
       "    <tr>\n",
       "      <th>0</th>\n",
       "      <td>1</td>\n",
       "      <td>HR</td>\n",
       "      <td>Login</td>\n",
       "      <td>Closed</td>\n",
       "      <td>High</td>\n",
       "      <td>2024-01-01</td>\n",
       "      <td>2024-01-02</td>\n",
       "    </tr>\n",
       "    <tr>\n",
       "      <th>1</th>\n",
       "      <td>2</td>\n",
       "      <td>Finance</td>\n",
       "      <td>Software</td>\n",
       "      <td>Open</td>\n",
       "      <td>Medium</td>\n",
       "      <td>2024-01-03</td>\n",
       "      <td>NaN</td>\n",
       "    </tr>\n",
       "    <tr>\n",
       "      <th>2</th>\n",
       "      <td>3</td>\n",
       "      <td>IT</td>\n",
       "      <td>Network</td>\n",
       "      <td>Closed</td>\n",
       "      <td>High</td>\n",
       "      <td>2024-01-04</td>\n",
       "      <td>2024-01-05</td>\n",
       "    </tr>\n",
       "    <tr>\n",
       "      <th>3</th>\n",
       "      <td>4</td>\n",
       "      <td>HR</td>\n",
       "      <td>Hardware</td>\n",
       "      <td>Closed</td>\n",
       "      <td>Low</td>\n",
       "      <td>2024-01-05</td>\n",
       "      <td>2024-01-06</td>\n",
       "    </tr>\n",
       "    <tr>\n",
       "      <th>4</th>\n",
       "      <td>5</td>\n",
       "      <td>IT</td>\n",
       "      <td>Login</td>\n",
       "      <td>Open</td>\n",
       "      <td>High</td>\n",
       "      <td>2024-01-07</td>\n",
       "      <td>NaN</td>\n",
       "    </tr>\n",
       "    <tr>\n",
       "      <th>5</th>\n",
       "      <td>6</td>\n",
       "      <td>Finance</td>\n",
       "      <td>Software</td>\n",
       "      <td>Closed</td>\n",
       "      <td>Low</td>\n",
       "      <td>2024-01-08</td>\n",
       "      <td>2024-01-09</td>\n",
       "    </tr>\n",
       "    <tr>\n",
       "      <th>6</th>\n",
       "      <td>7</td>\n",
       "      <td>HR</td>\n",
       "      <td>Network</td>\n",
       "      <td>Open</td>\n",
       "      <td>Medium</td>\n",
       "      <td>2024-01-10</td>\n",
       "      <td>NaN</td>\n",
       "    </tr>\n",
       "  </tbody>\n",
       "</table>\n",
       "</div>"
      ],
      "text/plain": [
       "   TicketID Department  Category  Status Priority CreatedDate ResolvedDate\n",
       "0         1         HR     Login  Closed     High  2024-01-01   2024-01-02\n",
       "1         2    Finance  Software    Open   Medium  2024-01-03          NaN\n",
       "2         3         IT   Network  Closed     High  2024-01-04   2024-01-05\n",
       "3         4         HR  Hardware  Closed      Low  2024-01-05   2024-01-06\n",
       "4         5         IT     Login    Open     High  2024-01-07          NaN\n",
       "5         6    Finance  Software  Closed      Low  2024-01-08   2024-01-09\n",
       "6         7         HR   Network    Open   Medium  2024-01-10          NaN"
      ]
     },
     "execution_count": 32,
     "metadata": {},
     "output_type": "execute_result"
    }
   ],
   "source": [
    "IT_support=pd.read_excel(r\"C:\\Users\\Admin\\Desktop\\python\\Minskole class of data analytics\\pandas\\practise datasets\\it_support_ticket_analysis.xlsx\")\n",
    "IT_support"
   ]
  },
  {
   "cell_type": "markdown",
   "id": "f81af1ff",
   "metadata": {},
   "source": [
    "Tickets Count by Department"
   ]
  },
  {
   "cell_type": "code",
   "execution_count": 33,
   "id": "3af8d8ab",
   "metadata": {},
   "outputs": [
    {
     "data": {
      "text/html": [
       "<div>\n",
       "<style scoped>\n",
       "    .dataframe tbody tr th:only-of-type {\n",
       "        vertical-align: middle;\n",
       "    }\n",
       "\n",
       "    .dataframe tbody tr th {\n",
       "        vertical-align: top;\n",
       "    }\n",
       "\n",
       "    .dataframe thead th {\n",
       "        text-align: right;\n",
       "    }\n",
       "</style>\n",
       "<table border=\"1\" class=\"dataframe\">\n",
       "  <thead>\n",
       "    <tr style=\"text-align: right;\">\n",
       "      <th></th>\n",
       "      <th>Department</th>\n",
       "      <th>TicketID</th>\n",
       "      <th>Category</th>\n",
       "      <th>Status</th>\n",
       "      <th>Priority</th>\n",
       "      <th>CreatedDate</th>\n",
       "      <th>ResolvedDate</th>\n",
       "      <th>count</th>\n",
       "    </tr>\n",
       "  </thead>\n",
       "  <tbody>\n",
       "    <tr>\n",
       "      <th>0</th>\n",
       "      <td>Finance</td>\n",
       "      <td>6</td>\n",
       "      <td>Software</td>\n",
       "      <td>Closed</td>\n",
       "      <td>Low</td>\n",
       "      <td>2024-01-08</td>\n",
       "      <td>2024-01-09</td>\n",
       "      <td>1</td>\n",
       "    </tr>\n",
       "    <tr>\n",
       "      <th>1</th>\n",
       "      <td>HR</td>\n",
       "      <td>1</td>\n",
       "      <td>Login</td>\n",
       "      <td>Closed</td>\n",
       "      <td>High</td>\n",
       "      <td>2024-01-01</td>\n",
       "      <td>2024-01-02</td>\n",
       "      <td>1</td>\n",
       "    </tr>\n",
       "    <tr>\n",
       "      <th>2</th>\n",
       "      <td>HR</td>\n",
       "      <td>4</td>\n",
       "      <td>Hardware</td>\n",
       "      <td>Closed</td>\n",
       "      <td>Low</td>\n",
       "      <td>2024-01-05</td>\n",
       "      <td>2024-01-06</td>\n",
       "      <td>1</td>\n",
       "    </tr>\n",
       "    <tr>\n",
       "      <th>3</th>\n",
       "      <td>IT</td>\n",
       "      <td>3</td>\n",
       "      <td>Network</td>\n",
       "      <td>Closed</td>\n",
       "      <td>High</td>\n",
       "      <td>2024-01-04</td>\n",
       "      <td>2024-01-05</td>\n",
       "      <td>1</td>\n",
       "    </tr>\n",
       "  </tbody>\n",
       "</table>\n",
       "</div>"
      ],
      "text/plain": [
       "  Department  TicketID  Category  Status Priority CreatedDate ResolvedDate  \\\n",
       "0    Finance         6  Software  Closed      Low  2024-01-08   2024-01-09   \n",
       "1         HR         1     Login  Closed     High  2024-01-01   2024-01-02   \n",
       "2         HR         4  Hardware  Closed      Low  2024-01-05   2024-01-06   \n",
       "3         IT         3   Network  Closed     High  2024-01-04   2024-01-05   \n",
       "\n",
       "   count  \n",
       "0      1  \n",
       "1      1  \n",
       "2      1  \n",
       "3      1  "
      ]
     },
     "execution_count": 33,
     "metadata": {},
     "output_type": "execute_result"
    }
   ],
   "source": [
    "Tickets_Count=IT_support.groupby(\"Department\").value_counts().reset_index()\n",
    "Tickets_Count"
   ]
  }
 ],
 "metadata": {
  "kernelspec": {
   "display_name": "Python 3",
   "language": "python",
   "name": "python3"
  },
  "language_info": {
   "codemirror_mode": {
    "name": "ipython",
    "version": 3
   },
   "file_extension": ".py",
   "mimetype": "text/x-python",
   "name": "python",
   "nbconvert_exporter": "python",
   "pygments_lexer": "ipython3",
   "version": "3.12.3"
  }
 },
 "nbformat": 4,
 "nbformat_minor": 5
}
